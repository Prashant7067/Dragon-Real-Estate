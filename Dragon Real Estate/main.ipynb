{
 "cells": [
  {
   "cell_type": "code",
   "execution_count": 1,
   "metadata": {},
   "outputs": [
    {
     "name": "stdout",
     "output_type": "stream",
     "text": [
      "The price of the house is expected to be:  21\n"
     ]
    },
    {
     "name": "stderr",
     "output_type": "stream",
     "text": [
      "c:\\Python311\\Lib\\site-packages\\sklearn\\base.py:420: UserWarning: X does not have valid feature names, but SimpleImputer was fitted with feature names\n",
      "  warnings.warn(\n"
     ]
    }
   ],
   "source": [
    "from joblib import dump, load\n",
    "import numpy as np\n",
    "model,my_pipeline = load('Dragon.joblib')\n",
    "a=int(input(\"Enter the CRIM: \"))\n",
    "b=int(input(\"Enter the ZN: \"))\n",
    "c=int(input(\"Enter the INDUS: \"))\n",
    "d=int(input(\"Enter the CHAS: \"))\n",
    "e=int(input(\"Enter the NOX: \"))\n",
    "f=int(input(\"Enter the RM: \"))\n",
    "g=int(input(\"Enter the AGE: \"))\n",
    "h=int(input(\"Enter the DIS: \"))\n",
    "i=int(input(\"Enter the RAD: \"))\n",
    "j=int(input(\"Enter the TAX: \"))\n",
    "k=int(input(\"Enter the PTRATIO: \"))\n",
    "l=int(input(\"Enter the B: \"))\n",
    "m=int(input(\"Enter the LSTAT: \"))\n",
    "\n",
    "a=np.array([[a,b,c,d,e,f,g,h,i,j,k,l,m]])\n",
    "X_test_prepared = my_pipeline.transform(a)\n",
    "final_predictions = model.predict(X_test_prepared)\n",
    "print(\"The price of the house is expected to be: \",int(final_predictions))"
   ]
  }
 ],
 "metadata": {
  "kernelspec": {
   "display_name": "Python 3",
   "language": "python",
   "name": "python3"
  },
  "language_info": {
   "codemirror_mode": {
    "name": "ipython",
    "version": 3
   },
   "file_extension": ".py",
   "mimetype": "text/x-python",
   "name": "python",
   "nbconvert_exporter": "python",
   "pygments_lexer": "ipython3",
   "version": "3.11.0"
  },
  "orig_nbformat": 4
 },
 "nbformat": 4,
 "nbformat_minor": 2
}
